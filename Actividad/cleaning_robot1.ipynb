{
 "cells": [
  {
   "cell_type": "markdown",
   "metadata": {},
   "source": [
    "# Agentpy Example"
   ]
  },
  {
   "cell_type": "markdown",
   "metadata": {},
   "source": [
    "## Config"
   ]
  },
  {
   "cell_type": "code",
   "execution_count": null,
   "metadata": {},
   "outputs": [],
   "source": [
    "#! pip install agentpy matplotlib seaborn IPython"
   ]
  },
  {
   "cell_type": "markdown",
   "metadata": {},
   "source": [
    "## Source code"
   ]
  },
  {
   "cell_type": "markdown",
   "metadata": {},
   "source": [
    "#### Imports"
   ]
  },
  {
   "cell_type": "code",
   "execution_count": 89,
   "metadata": {},
   "outputs": [],
   "source": [
    "# Model design\n",
    "import agentpy as ap\n",
    "\n",
    "# Visualization\n",
    "import matplotlib.pyplot as plt\n",
    "import seaborn as sns\n",
    "import IPython\n",
    "import random\n"
   ]
  },
  {
   "cell_type": "markdown",
   "metadata": {},
   "source": [
    "#### Model definition"
   ]
  },
  {
   "cell_type": "code",
   "execution_count": 95,
   "metadata": {},
   "outputs": [],
   "source": [
    "MOVES = [(1,0),(0,1),(-1,0),(0,-1)]\n",
    "\n",
    "class RoomModel(ap.Model):\n",
    "\n",
    "    def setup(self):\n",
    "\n",
    "        self.robot = ap.AgentList(self,1)\n",
    "        self.trash = ap.AgentList(self,10)\n",
    "\n",
    "        self.room = ap.Grid(self, [50,50], track_empty = True)\n",
    "        self.room.add_agents(self.robot,[(1,1)])\n",
    "        self.room.add_agents(self.trash,random = True)\n",
    "\n",
    "        # Initiate a dynamic variable for all trees\n",
    "        # Condition 0: robot, 1: trash, 2: clean\n",
    "        self.robot.type_agent = 0\n",
    "        self.trash.type_agent = 1\n",
    "\n",
    "    def step(self):\n",
    "\n",
    "        # Select robot\n",
    "        robots = self.robot\n",
    "        room = self.trash.select(self.trash.type_agent == 1)\n",
    "\n",
    "        for robot in robots:\n",
    "            for neighbor in self.room.neighbors(robot):\n",
    "                if neighbor.type_agent == 1:\n",
    "                    neighbor.type_agent = 2\n",
    "                    break\n",
    "            else:\n",
    "                self.room.move_by(robot, random.choice(MOVES))\n",
    "\n",
    "        trash_pending = self.trash.select(self.trash.type_agent == 1)\n",
    "\n",
    "        # Stop simulation if no fire is left\n",
    "        if len(trash_pending) == 0:\n",
    "            self.stop()\n",
    "\n",
    "    def end(self):\n",
    "\n",
    "        # Document a measure at the end of the simulation\n",
    "        cleaned_tiles = len(self.trash.select(self.trash.type_agent == 2))\n",
    "        self.report('Percentage of cleaned tiles',\n",
    "                    cleaned_tiles / len(self.trash))"
   ]
  },
  {
   "cell_type": "code",
   "execution_count": 96,
   "metadata": {},
   "outputs": [],
   "source": [
    "parameters = {\n",
    "    'density':0.8,\n",
    "    'N':50,\n",
    "    'M':100,\n",
    "    'steps':100\n",
    "}"
   ]
  },
  {
   "cell_type": "markdown",
   "metadata": {},
   "source": [
    "#### Create single-run animation with custom colors"
   ]
  },
  {
   "cell_type": "code",
   "execution_count": 97,
   "metadata": {},
   "outputs": [
    {
     "ename": "KeyError",
     "evalue": "'density'",
     "output_type": "error",
     "traceback": [
      "\u001b[1;31m---------------------------------------------------------------------------\u001b[0m",
      "\u001b[1;31mKeyError\u001b[0m                                  Traceback (most recent call last)",
      "\u001b[1;32md:\\Tec de Monterrey\\Semestre 5\\Gráficas\\TC2008B\\Actividad\\agenpy_example.ipynb Celda 11\u001b[0m in \u001b[0;36m<cell line: 11>\u001b[1;34m()\u001b[0m\n\u001b[0;32m      <a href='vscode-notebook-cell:/d%3A/Tec%20de%20Monterrey/Semestre%205/Gr%C3%A1ficas/TC2008B/Actividad/agenpy_example.ipynb#X15sZmlsZQ%3D%3D?line=8'>9</a>\u001b[0m fig, ax \u001b[39m=\u001b[39m plt\u001b[39m.\u001b[39msubplots()\n\u001b[0;32m     <a href='vscode-notebook-cell:/d%3A/Tec%20de%20Monterrey/Semestre%205/Gr%C3%A1ficas/TC2008B/Actividad/agenpy_example.ipynb#X15sZmlsZQ%3D%3D?line=9'>10</a>\u001b[0m model \u001b[39m=\u001b[39m RoomModel({\u001b[39m'\u001b[39m\u001b[39msteps\u001b[39m\u001b[39m'\u001b[39m:\u001b[39m100\u001b[39m})\n\u001b[1;32m---> <a href='vscode-notebook-cell:/d%3A/Tec%20de%20Monterrey/Semestre%205/Gr%C3%A1ficas/TC2008B/Actividad/agenpy_example.ipynb#X15sZmlsZQ%3D%3D?line=10'>11</a>\u001b[0m animation \u001b[39m=\u001b[39m ap\u001b[39m.\u001b[39;49manimate(model, fig, ax, animation_plot)\n\u001b[0;32m     <a href='vscode-notebook-cell:/d%3A/Tec%20de%20Monterrey/Semestre%205/Gr%C3%A1ficas/TC2008B/Actividad/agenpy_example.ipynb#X15sZmlsZQ%3D%3D?line=11'>12</a>\u001b[0m IPython\u001b[39m.\u001b[39mdisplay\u001b[39m.\u001b[39mHTML(animation\u001b[39m.\u001b[39mto_jshtml(fps\u001b[39m=\u001b[39m\u001b[39m15\u001b[39m))\n",
      "File \u001b[1;32mc:\\Users\\guzma\\AppData\\Local\\Programs\\Python\\Python39\\lib\\site-packages\\agentpy\\visualization.py:59\u001b[0m, in \u001b[0;36manimate\u001b[1;34m(model, fig, axs, plot, steps, seed, skip, fargs, **kwargs)\u001b[0m\n\u001b[0;32m     17\u001b[0m \u001b[39mdef\u001b[39;00m \u001b[39manimate\u001b[39m(model, fig, axs, plot, steps\u001b[39m=\u001b[39m\u001b[39mNone\u001b[39;00m, seed\u001b[39m=\u001b[39m\u001b[39mNone\u001b[39;00m,\n\u001b[0;32m     18\u001b[0m             skip\u001b[39m=\u001b[39m\u001b[39m0\u001b[39m, fargs\u001b[39m=\u001b[39m(), \u001b[39m*\u001b[39m\u001b[39m*\u001b[39mkwargs):\n\u001b[0;32m     19\u001b[0m     \u001b[39m\"\"\" Returns an animation of the model simulation,\u001b[39;00m\n\u001b[0;32m     20\u001b[0m \u001b[39m    using :func:`matplotlib.animation.FuncAnimation`.\u001b[39;00m\n\u001b[0;32m     21\u001b[0m \n\u001b[1;32m   (...)\u001b[0m\n\u001b[0;32m     56\u001b[0m \u001b[39m            HTML(animation.to_jshtml())\u001b[39;00m\n\u001b[0;32m     57\u001b[0m \u001b[39m    \"\"\"\u001b[39;00m\n\u001b[1;32m---> 59\u001b[0m     model\u001b[39m.\u001b[39;49msim_setup(steps, seed)\n\u001b[0;32m     60\u001b[0m     model\u001b[39m.\u001b[39mcreate_output()\n\u001b[0;32m     61\u001b[0m     pre_steps \u001b[39m=\u001b[39m \u001b[39m0\u001b[39m\n",
      "File \u001b[1;32mc:\\Users\\guzma\\AppData\\Local\\Programs\\Python\\Python39\\lib\\site-packages\\agentpy\\model.py:316\u001b[0m, in \u001b[0;36mModel.sim_setup\u001b[1;34m(self, steps, seed)\u001b[0m\n\u001b[0;32m    313\u001b[0m \u001b[39mself\u001b[39m\u001b[39m.\u001b[39m_partly_run \u001b[39m=\u001b[39m \u001b[39mTrue\u001b[39;00m\n\u001b[0;32m    315\u001b[0m \u001b[39m# Execute setup and first update\u001b[39;00m\n\u001b[1;32m--> 316\u001b[0m \u001b[39mself\u001b[39m\u001b[39m.\u001b[39msetup(\u001b[39m*\u001b[39m\u001b[39m*\u001b[39m\u001b[39mself\u001b[39m\u001b[39m.\u001b[39m_setup_kwargs)\n\u001b[0;32m    317\u001b[0m \u001b[39mself\u001b[39m\u001b[39m.\u001b[39mupdate()\n\u001b[0;32m    319\u001b[0m \u001b[39m# Stop simulation if t too high\u001b[39;00m\n",
      "\u001b[1;32md:\\Tec de Monterrey\\Semestre 5\\Gráficas\\TC2008B\\Actividad\\agenpy_example.ipynb Celda 11\u001b[0m in \u001b[0;36mRoomModel.setup\u001b[1;34m(self)\u001b[0m\n\u001b[0;32m      <a href='vscode-notebook-cell:/d%3A/Tec%20de%20Monterrey/Semestre%205/Gr%C3%A1ficas/TC2008B/Actividad/agenpy_example.ipynb#X15sZmlsZQ%3D%3D?line=4'>5</a>\u001b[0m \u001b[39mdef\u001b[39;00m \u001b[39msetup\u001b[39m(\u001b[39mself\u001b[39m):\n\u001b[0;32m      <a href='vscode-notebook-cell:/d%3A/Tec%20de%20Monterrey/Semestre%205/Gr%C3%A1ficas/TC2008B/Actividad/agenpy_example.ipynb#X15sZmlsZQ%3D%3D?line=6'>7</a>\u001b[0m     \u001b[39mself\u001b[39m\u001b[39m.\u001b[39mrobot \u001b[39m=\u001b[39m ap\u001b[39m.\u001b[39mAgentList(\u001b[39mself\u001b[39m,\u001b[39m1\u001b[39m)\n\u001b[1;32m----> <a href='vscode-notebook-cell:/d%3A/Tec%20de%20Monterrey/Semestre%205/Gr%C3%A1ficas/TC2008B/Actividad/agenpy_example.ipynb#X15sZmlsZQ%3D%3D?line=7'>8</a>\u001b[0m     \u001b[39mself\u001b[39m\u001b[39m.\u001b[39mtrash \u001b[39m=\u001b[39m ap\u001b[39m.\u001b[39mAgentList(\u001b[39mself\u001b[39m,\u001b[39mint\u001b[39m(\u001b[39mself\u001b[39;49m\u001b[39m.\u001b[39;49mp[\u001b[39m'\u001b[39;49m\u001b[39mdensity\u001b[39;49m\u001b[39m'\u001b[39;49m]\u001b[39m*\u001b[39m(\u001b[39mself\u001b[39m\u001b[39m.\u001b[39mp\u001b[39m.\u001b[39mN\u001b[39m*\u001b[39m\u001b[39mself\u001b[39m\u001b[39m.\u001b[39mp\u001b[39m.\u001b[39mM)))\n\u001b[0;32m     <a href='vscode-notebook-cell:/d%3A/Tec%20de%20Monterrey/Semestre%205/Gr%C3%A1ficas/TC2008B/Actividad/agenpy_example.ipynb#X15sZmlsZQ%3D%3D?line=9'>10</a>\u001b[0m     \u001b[39mself\u001b[39m\u001b[39m.\u001b[39mroom \u001b[39m=\u001b[39m ap\u001b[39m.\u001b[39mGrid(\u001b[39mself\u001b[39m, [\u001b[39m50\u001b[39m,\u001b[39m50\u001b[39m], track_empty \u001b[39m=\u001b[39m \u001b[39mTrue\u001b[39;00m)\n\u001b[0;32m     <a href='vscode-notebook-cell:/d%3A/Tec%20de%20Monterrey/Semestre%205/Gr%C3%A1ficas/TC2008B/Actividad/agenpy_example.ipynb#X15sZmlsZQ%3D%3D?line=10'>11</a>\u001b[0m     \u001b[39mself\u001b[39m\u001b[39m.\u001b[39mroom\u001b[39m.\u001b[39madd_agents(\u001b[39mself\u001b[39m\u001b[39m.\u001b[39mrobot,[(\u001b[39m1\u001b[39m,\u001b[39m1\u001b[39m)])\n",
      "\u001b[1;31mKeyError\u001b[0m: 'density'"
     ]
    },
    {
     "data": {
      "image/png": "[encoded data removed]",
      "text/plain": [
       "<Figure size 432x288 with 1 Axes>"
      ]
     },
     "metadata": {
      "needs_background": "light"
     },
     "output_type": "display_data"
    }
   ],
   "source": [
    "def animation_plot(model, ax):\n",
    "    attr_grid = model.room.attr_grid('type_agent')\n",
    "    color_dict = {0:'#7FC97F', 1:'#d62c2c', 2:'#e5e5e5', None:'#d5e5d5'}\n",
    "    ap.gridplot(attr_grid, ax=ax, color_dict=color_dict, convert=True)\n",
    "    ax.set_title(f\"Simulation of a forest fire\\n\"\n",
    "                 f\"Time-step: {model.t}, Trash left: \"\n",
    "                 f\"{len(model.trash.select(model.trash.type_agent == 1))}\")\n",
    "\n",
    "fig, ax = plt.subplots()\n",
    "model = RoomModel({'steps':100})\n",
    "animation = ap.animate(model, fig, ax, animation_plot)\n",
    "IPython.display.HTML(animation.to_jshtml(fps=15))"
   ]
  }
 ],
 "metadata": {
  "kernelspec": {
   "display_name": "Python 3.9.7 64-bit",
   "language": "python",
   "name": "python3"
  },
  "language_info": {
   "codemirror_mode": {
    "name": "ipython",
    "version": 3
   },
   "file_extension": ".py",
   "mimetype": "text/x-python",
   "name": "python",
   "nbconvert_exporter": "python",
   "pygments_lexer": "ipython3",
   "version": "3.9.7"
  },
  "orig_nbformat": 4,
  "vscode": {
   "interpreter": {
    "hash": "9f069ba2658f0d07236d924e1412fc91c47a8f44cfb2d94f5320bd6427d69bec"
   }
  }
 },
 "nbformat": 4,
 "nbformat_minor": 2
}
